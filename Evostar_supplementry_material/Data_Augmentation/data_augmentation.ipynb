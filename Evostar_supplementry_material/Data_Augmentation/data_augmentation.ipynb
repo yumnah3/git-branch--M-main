{
  "cells": [
    {
      "cell_type": "code",
      "execution_count": null,
      "metadata": {
        "id": "1a0ykqtm68y-"
      },
      "outputs": [],
      "source": [
        "import pandas as pd\n",
        "from sklearn.discriminant_analysis import LinearDiscriminantAnalysis\n",
        "from sklearn.metrics import classification_report, confusion_matrix, roc_auc_score, roc_curve\n",
        "from imblearn.over_sampling import RandomOverSampler\n",
        "import matplotlib.pyplot as plt\n",
        "from sklearn.model_selection import cross_val_score\n",
        "import seaborn as sns\n",
        "from collections import Counter\n",
        "from sklearn.datasets import make_classification\n",
        "from imblearn.over_sampling import ADASYN\n",
        "from imblearn.over_sampling import SVMSMOTE\n",
        "from sklearn.ensemble import RandomForestClassifier\n",
        "from imblearn.over_sampling import SMOTE\n",
        "from imblearn.over_sampling import SMOTENC\n",
        "from imblearn.over_sampling import SMOTEN\n",
        "from imblearn.over_sampling import BorderlineSMOTE\n",
        "from imblearn.combine import SMOTEENN\n",
        "from imblearn.combine import SMOTETomek\n",
        "\n",
        "\n",
        "# Load the CSV data/content/drive/MyDrive/Breast_Segmentation_features/augmentation_approach/svmsmote_train_dataset_80.csv')\n",
        "data = pd.read_csv('/content/drive/MyDrive/Breast_Segmentation_features/augmentation_approach/augmentation work/cc segments only/GE_experiment/train_80.csv')\n",
        "\n",
        "# Extract the features and labels, ignoring the first 6 columns\n",
        "features = data.iloc[:, :-1]\n",
        "labels = data.iloc[:, -1]\n",
        "\n",
        "# Convert labels to numerical values\n",
        "#labels = labels.replace({'positive': 1, 'negative': 0})\n",
        "\n",
        "# Perform data augmentation using svmsmote\n",
        "sm = SVMSMOTE(random_state=42, sampling_strategy= 'all')\n",
        "features_aug, labels_aug = sm.fit_resample(features, labels)\n",
        "\n",
        "# Perform data augmentation using smotenc\n",
        "#sm = SMOTENC(random_state=42, categorical_features=[3, 4])\n",
        "#features_aug, labels_aug = sm.fit_resample(features, labels)\n",
        "\n",
        "# Perform data augmentation using smoten\n",
        "#sampler = SMOTEN(random_state=0)\n",
        "#features_aug, labels_aug = sampler.fit_resample(features, labels)\n",
        "\n",
        "# Perform data augmentation using adasyn\n",
        "#ada = ADASYN(random_state=42)\n",
        "#features_aug, labels_aug = ada.fit_resample(features, labels)\n",
        "\n",
        "# Perform data augmentation using borderlinesmote\n",
        "#sm = BorderlineSMOTE(random_state=42)\n",
        "#features_aug, labels_aug = sm.fit_resample(features, labels)\n",
        "\n",
        "# Perform data augmentation using mote\n",
        "#sm = SMOTE(random_state=42)\n",
        "#features_aug, labels_aug = sm.fit_resample(features, labels)\n",
        "\n",
        "# Perform data augmentation using SMOTEENN\n",
        "#sme = SMOTEENN(random_state=42)\n",
        "#features_aug, labels_aug = sme.fit_resample(features, labels)\n",
        "\n",
        "# Perform data augmentation using SMOTETomek\n",
        "#smt = SMOTETomek(random_state=42)\n",
        "#features_aug, labels_aug = smt.fit_resample(features, labels)\n",
        "\n",
        "\n",
        "# Save the augmented training data to a CSV file\n",
        "augmented_data_train = pd.concat([pd.DataFrame(features_aug), pd.DataFrame(labels_aug)], axis=1)\n",
        "augmented_data_train.to_csv('/content/drive/MyDrive/Breast_Segmentation_features/augmentation_approach/augmentation work/cc segments only/GE_experiment/cc_segments_svmsmote_training.csv', index=False)\n"
      ]
    }
  ],
  "metadata": {
    "colab": {
      "provenance": []
    },
    "kernelspec": {
      "display_name": "Python 3",
      "name": "python3"
    },
    "language_info": {
      "name": "python"
    }
  },
  "nbformat": 4,
  "nbformat_minor": 0
}
